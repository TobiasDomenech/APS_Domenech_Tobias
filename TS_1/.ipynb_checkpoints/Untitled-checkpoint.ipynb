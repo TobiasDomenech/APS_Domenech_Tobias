{
 "cells": [
  {
   "cell_type": "markdown",
   "id": "cbd00dfb-a766-40ed-995b-7b5a8c0af897",
   "metadata": {},
   "source": [
    "<img src=\"./logo_UNSAM.jpg\" align=\"right\" width=\"150\" />\n",
    "\n",
    "#### Procesamiento Digital de Señales\n",
    "\n",
    "# Trabajo Práctico Nº1\n",
    "#### Nombre y Apellido Tobías Domenech\n",
    "\n"
   ]
  },
  {
   "cell_type": "markdown",
   "id": "c2c42c93-f98f-46ba-ba24-075d6acb55ba",
   "metadata": {},
   "source": [
    "En el siguiente trabajo se presenta una función generadora señales de tipo senoidal, tomando como ecuaci"
   ]
  }
 ],
 "metadata": {
  "kernelspec": {
   "display_name": "Python 3 (ipykernel)",
   "language": "python",
   "name": "python3"
  },
  "language_info": {
   "codemirror_mode": {
    "name": "ipython",
    "version": 3
   },
   "file_extension": ".py",
   "mimetype": "text/x-python",
   "name": "python",
   "nbconvert_exporter": "python",
   "pygments_lexer": "ipython3",
   "version": "3.13.2"
  }
 },
 "nbformat": 4,
 "nbformat_minor": 5
}
